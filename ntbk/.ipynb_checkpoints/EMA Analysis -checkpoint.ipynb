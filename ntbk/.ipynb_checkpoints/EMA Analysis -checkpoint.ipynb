{
 "cells": [
  {
   "cell_type": "code",
   "execution_count": 15,
   "metadata": {
    "collapsed": false
   },
   "outputs": [],
   "source": [
    "import numpy as np\n",
    "import pandas as pd\n",
    "from holy_hammer import data\n",
    "from sklearn.metrics import mean_squared_error\n",
    "from anomalias import tsfuncs as ts\n",
    "import seamless as ss"
   ]
  },
  {
   "cell_type": "markdown",
   "metadata": {},
   "source": [
    "Loading the data for our analysis on exponential weighted moving average (ema for short)"
   ]
  },
  {
   "cell_type": "code",
   "execution_count": 16,
   "metadata": {
    "collapsed": false
   },
   "outputs": [
    {
     "name": "stdout",
     "output_type": "stream",
     "text": [
      "Opening /home/maggi/Dropbox/hr_data/cleaned_20170629_143148.h5 in read-only mode\n"
     ]
    }
   ],
   "source": [
    "df = data.load()"
   ]
  },
  {
   "cell_type": "markdown",
   "metadata": {},
   "source": [
    "Now we select the feature we are gong to use and calculate ema as features"
   ]
  },
  {
   "cell_type": "code",
   "execution_count": 17,
   "metadata": {
    "collapsed": false
   },
   "outputs": [
    {
     "name": "stdout",
     "output_type": "stream",
     "text": [
      "Simple exp MSE: 1.627\n"
     ]
    }
   ],
   "source": [
    "target = 'meanp'\n",
    "val_cutoff = '2000-01-01'\n",
    "\n",
    "df[target] = df['place_flag']*0.5 + (1./df['place_odds'])*0.5\n",
    "\n",
    "df = df.to_pandas()\n",
    "df.index = df['scheduled_time']\n",
    "df = df[['horse_name',target]]\n",
    "\n",
    "tr, val = ts.split_data(df, cutoff=val_cutoff)\n",
    "\n",
    "feature = ts.grouped_lagged_ema(df[target].values, 0.70, df['horse_name'].values)\n",
    "tr, feature_val = ts.split_data(pd.DataFrame(feature), date=df.index)\n",
    "error = ts.mape(val[target].values, feature_val.values)\n",
    "print('Simple exp MSE: %.3f' % error)"
   ]
  },
  {
   "cell_type": "code",
   "execution_count": 21,
   "metadata": {
    "collapsed": false
   },
   "outputs": [
    {
     "name": "stdout",
     "output_type": "stream",
     "text": [
      "2015-05-05T13:00:00.000000000\n",
      "[]\n"
     ]
    },
    {
     "data": {
      "image/png": "[encoded data removed]",
      "text/plain": [
       "<matplotlib.figure.Figure at 0x7f7981a97b10>"
      ]
     },
     "metadata": {},
     "output_type": "display_data"
    }
   ],
   "source": [
    "horse_ix = val['horse_name'].values == 'dvinsky'\n",
    "print(val.index.values.min())\n",
    "print(val[target].values[horse_ix])\n",
    "ts.get_actual_vs_prediction_plot(val[target].values[horse_ix], feature_val.values[horse_ix])"
   ]
  }
 ],
 "metadata": {
  "kernelspec": {
   "display_name": "Python 2",
   "language": "python",
   "name": "python2"
  },
  "language_info": {
   "codemirror_mode": {
    "name": "ipython",
    "version": 2
   },
   "file_extension": ".py",
   "mimetype": "text/x-python",
   "name": "python",
   "nbconvert_exporter": "python",
   "pygments_lexer": "ipython2",
   "version": "2.7.12"
  }
 },
 "nbformat": 4,
 "nbformat_minor": 2
}
